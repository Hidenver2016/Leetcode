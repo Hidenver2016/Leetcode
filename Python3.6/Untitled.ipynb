{
 "cells": [
  {
   "cell_type": "code",
   "execution_count": null,
   "metadata": {},
   "outputs": [],
   "source": [
    "class Solution:\n",
    "    # @return an integer\n",
    "    def solveNQueens(self, n):\n",
    "        self.cols = [False] * n # 先全部置为假，这样子后面就可以用了,这个东西是对于每一列的指示，如果是true表示被皇后占据 （不关心行）\n",
    "        self.main_diag = [False] * (2 * n) #主对角线row+i 会被占据\n",
    "        self.anti_diag = [False] * (2 * n) # 次对角线用row-i+n, 我觉得这个n就是一个偏置，其实直接搞row-i也是对的\n",
    "        self.solutions = [] #这个地方因为行不用考虑，一行只有一个皇后，所以依次排列的就是列的位置\n",
    "        self.solveNQueensRecu([], 0, n)\n",
    "        for ch in self.solutions: # 有几个解\n",
    "            for sh in ch: # 解的每一行\n",
    "                print (sh)                \n",
    "            print ('\\n')\n",
    "        return len(self.solutions)\n",
    "#        return self.solutions\n",
    "    def solveNQueensRecu(self, solution, row, n):\n",
    "        if row == n:\n",
    "            self.solutions.append(map(lambda x: '.' * x + \"Q\" + '.' * (n - x - 1), solution)) #这个地方就是一个输出格式\n",
    "        else:\n",
    "            for i in range(n): # 列遍历\n",
    "                #这里实际上是剪枝， 看看能不能跑\n",
    "                if not self.cols[i] and not self.main_diag[row + i] and not self.anti_diag[row - i + n]:\n",
    "                    self.cols[i] = self.main_diag[row + i] = self.anti_diag[row - i + n] = True# 先置位\n",
    "                    # 此处实现的row+1是对于行的遍历，把当前可行的答案附上（不一定以后也可行，因为下面一句是backtrack删除不行答案的）\n",
    "                    self.solveNQueensRecu(solution + [i], row + 1, n)\n",
    "                    # 删除不行的答案\n",
    "                    self.cols[i] = self.main_diag[row + i] = self.anti_diag[row - i + n] = False"
   ]
  },
  {
   "cell_type": "code",
   "execution_count": null,
   "metadata": {},
   "outputs": [],
   "source": [
    "if __name__ == \"__main__\":\n",
    "    results = Solution().solveNQueens(10)\n",
    "    print (results)"
   ]
  }
 ],
 "metadata": {
  "kernelspec": {
   "display_name": "Python 3",
   "language": "python",
   "name": "python3"
  },
  "language_info": {
   "codemirror_mode": {
    "name": "ipython",
    "version": 3
   },
   "file_extension": ".py",
   "mimetype": "text/x-python",
   "name": "python",
   "nbconvert_exporter": "python",
   "pygments_lexer": "ipython3",
   "version": "3.6.10"
  }
 },
 "nbformat": 4,
 "nbformat_minor": 4
}
